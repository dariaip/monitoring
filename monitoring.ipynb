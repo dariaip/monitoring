{
 "cells": [
  {
   "cell_type": "code",
   "execution_count": null,
   "metadata": {},
   "outputs": [],
   "source": [
    "import psutil\n",
    "import numpy as np\n",
    "import matplotlib.pyplot as plt\n",
    "%matplotlib notebook # the line makes the graph updated"
   ]
  },
  {
   "cell_type": "code",
   "execution_count": null,
   "metadata": {},
   "outputs": [],
   "source": [
    "# initialization\n",
    "x = []\n",
    "y = []\n",
    "z = []\n",
    "i = 0\n",
    "user = '<write your username here>' # aggregate all process ids related to this username\n",
    "refresh_freq = 1 # seconds (frequency of the graph refreshing)\n",
    "\n",
    "fig = plt.figure(figsize=(12, 7))\n",
    "ax1 = fig.add_subplot(211)\n",
    "ax2 = fig.add_subplot(212)\n",
    "graph_cpu, = ax1.plot(x, y, 'g-') # CPU plot\n",
    "graph_ram, = ax2.plot(x, z, 'b-') # RAM plot"
   ]
  },
  {
   "cell_type": "code",
   "execution_count": null,
   "metadata": {},
   "outputs": [],
   "source": [
    "zeros = 0\n",
    "while zeros < 10: # stop when nothing is going on during 10 iterations\n",
    "    x.append(i)\n",
    "    vals_cpu = []\n",
    "    vals_ram = []\n",
    "    vals_cpu.append(sum([p.cpu_percent() for p in psutil.process_iter() if p.username() == user]))\n",
    "    vals_ram.append(sum([p.memory_info()[1]/(2.**30) for p in psutil.process_iter() if p.username() == user])) #virt memory, Gb\n",
    "    y.append(np.mean(vals_cpu))\n",
    "    z.append(np.mean(vals_ram))\n",
    "   \n",
    "    # deal with while-loop stopping criterion\n",
    "    if len(vals_cpu) < 2 or vals_cpu[-1] != vals_cpu[-2]:\n",
    "        zeros = 0\n",
    "    else:\n",
    "        zeros += 1\n",
    "   \n",
    "    graph_cpu.set_xdata(x)\n",
    "    graph_cpu.set_ydata(y)\n",
    "    graph_ram.set_xdata(x)\n",
    "    graph_ram.set_ydata(z)\n",
    " \n",
    "    ax1.set_xlim((-1, i+1))\n",
    "    ax2.set_xlim((-1, i+1))\n",
    "    ax1.set_ylim((min(y)-0.1, max(y)+0.1))\n",
    "    ax2.set_ylim((min(z)-0.1, max(z)+0.1))\n",
    "    ax1.set_title('CPU usage, %')\n",
    "    ax2.set_title('RAM usage, Gb')\n",
    " \n",
    "    fig.canvas.draw()\n",
    "    plt.pause(refresh_freq)\n",
    "    i += 1"
   ]
  }
 ],
 "metadata": {
  "kernelspec": {
   "display_name": "Python 3",
   "language": "python",
   "name": "python3"
  },
  "language_info": {
   "codemirror_mode": {
    "name": "ipython",
    "version": 3
   },
   "file_extension": ".py",
   "mimetype": "text/x-python",
   "name": "python",
   "nbconvert_exporter": "python",
   "pygments_lexer": "ipython3",
   "version": "3.6.5"
  },
  "toc": {
   "base_numbering": 1,
   "nav_menu": {},
   "number_sections": true,
   "sideBar": true,
   "skip_h1_title": false,
   "title_cell": "Table of Contents",
   "title_sidebar": "Contents",
   "toc_cell": false,
   "toc_position": {},
   "toc_section_display": true,
   "toc_window_display": false
  }
 },
 "nbformat": 4,
 "nbformat_minor": 2
}
